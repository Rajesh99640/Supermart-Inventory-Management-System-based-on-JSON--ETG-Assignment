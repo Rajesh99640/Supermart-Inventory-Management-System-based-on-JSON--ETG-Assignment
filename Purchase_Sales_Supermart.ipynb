{
  "nbformat": 4,
  "nbformat_minor": 0,
  "metadata": {
    "colab": {
      "name": "Purchase Sales Supermart.ipynb",
      "provenance": []
    },
    "kernelspec": {
      "name": "python3",
      "display_name": "Python 3"
    },
    "language_info": {
      "name": "python"
    }
  },
  "cells": [
    {
      "cell_type": "code",
      "metadata": {
        "colab": {
          "base_uri": "https://localhost:8080/",
          "height": 222
        },
        "id": "dcptfg1SxNS1",
        "outputId": "2e8f8714-d0ed-4552-924e-75906c8e8909"
      },
      "source": [
        "import json\n",
        "\n",
        "fd = open(\"products.json\",'r')\n",
        "r = fd.read()\n",
        "fd.close()\n",
        "\n",
        "products = json.loads(r)\n",
        "\n",
        "products      #In products some of them seem to repeted but the weight of the products wil be generated\n",
        "\n",
        "\n",
        "\n",
        "\"\"\"# purchase\"\"\"\n",
        "\n",
        "import time\n",
        "\n",
        "ui_prod=str (input(\"Enter the Product_ID:\"))\n",
        "ui_quant=int (input(\"Enter the Quantity:\"))\n",
        "\n",
        "\n",
        "if (ui_prod in products.keys()):\n",
        "      print(\"Product_ID exists\")\n",
        "      print(\"***********Bill*************\")\n",
        "      print(\"Product:       \",products[ui_prod]['name'])\n",
        "      print(\"Price:         \",products[ui_prod]['pr'])\n",
        "      print(\"Weight (in g): \",products[ui_prod]['wt'])\n",
        "      print(\"Billing Amount:\",products[ui_prod]['pr'] * ui_quant)\n",
        "      t=time.ctime()\n",
        "      print(\"Time:\",t)\n",
        "\n",
        "      print(\"**Thank You have a nice day**\" )\n",
        "      products[ui_prod]['qn'] = products[ui_prod]['qn'] - ui_quant\n",
        "           \n",
        "else:\n",
        "     print(\"Product_ID doesnt exist;\")\n",
        "     print(\"Enter the correct product_ID.\")\n",
        "\n",
        "###Updating Inventroy after *purchase* \n",
        "\n",
        "\n",
        "\n",
        "js = json.dumps(products)\n",
        "fd = open(\"products.json\",'w')\n",
        "fd.write(js)\n",
        "fd.close()\n",
        "\n",
        "\n",
        "\"\"\"## sales\"\"\"\n",
        "sales = { 1:{\"prod_id\":101,\"name\":'Standard_Milk', \"pr\":20, \"billamt\":40 , \"qn\":2}\n",
        "    }\n",
        "\n",
        "sales[len(sales)+1] = {'prod_id':ui_prod,\"name\":products[ui_prod]['name'], \"pr\":products[ui_prod]['pr'], \"billamt\":products[ui_prod]['pr'] * ui_quant, \"time\":t}  \n",
        "\n",
        "\n",
        "sales =json.dumps(sales)\n",
        "\n",
        "fd = open(\"sales.json\",'w')\n",
        "fd.write(sales)\n",
        "fd.close()\n",
        "\n",
        "sales"
      ],
      "execution_count": 1,
      "outputs": [
        {
          "output_type": "stream",
          "name": "stdout",
          "text": [
            "Enter the Product_ID:121\n",
            "Enter the Quantity:3\n",
            "Product_ID exists\n",
            "***********Bill*************\n",
            "Product:        Wheat Bread\n",
            "Price:          45\n",
            "Weight (in g):  200\n",
            "Billing Amount: 135\n",
            "Time: Mon Sep  6 15:42:36 2021\n",
            "**Thank You have a nice day**\n"
          ]
        },
        {
          "output_type": "execute_result",
          "data": {
            "application/vnd.google.colaboratory.intrinsic+json": {
              "type": "string"
            },
            "text/plain": [
              "'{\"1\": {\"prod_id\": 101, \"name\": \"Standard_Milk\", \"pr\": 20, \"billamt\": 40, \"qn\": 2}, \"2\": {\"prod_id\": \"121\", \"name\": \"Wheat Bread\", \"pr\": 45, \"billamt\": 135, \"time\": \"Mon Sep  6 15:42:36 2021\"}}'"
            ]
          },
          "metadata": {},
          "execution_count": 1
        }
      ]
    },
    {
      "cell_type": "code",
      "metadata": {
        "id": "QZ10Ei4xxPFG"
      },
      "source": [
        ""
      ],
      "execution_count": null,
      "outputs": []
    },
    {
      "cell_type": "code",
      "metadata": {
        "id": "uBH8tgbHxPKU"
      },
      "source": [
        ""
      ],
      "execution_count": null,
      "outputs": []
    }
  ]
}